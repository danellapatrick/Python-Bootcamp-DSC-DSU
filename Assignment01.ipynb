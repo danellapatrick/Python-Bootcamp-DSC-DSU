{
 "cells": [
  {
   "cell_type": "markdown",
   "metadata": {},
   "source": [
    "# Assignment 01"
   ]
  },
  {
   "cell_type": "markdown",
   "metadata": {},
   "source": [
    "Question 01"
   ]
  },
  {
   "cell_type": "code",
   "execution_count": 2,
   "metadata": {},
   "outputs": [
    {
     "name": "stdout",
     "output_type": "stream",
     "text": [
      "Enter your namedanella\n",
      "The name is danella\n",
      "The name diagnoally is :\n",
      " d\n",
      "    a\n",
      "       n\n",
      "          e\n",
      "             l\n",
      "                l\n",
      "                   a\n"
     ]
    }
   ],
   "source": [
    "name=input(\"Enter your name\")\n",
    "def main():\n",
    "    space=\"\"\n",
    "    for n in name: \n",
    "         print (space , n)\n",
    "        space+= \"   \"\n",
    "    return\n",
    "print('The name is {}'.format(name))\n",
    "print('The name diagnoally is :')\n",
    "main()\n"
   ]
  },
  {
   "cell_type": "code",
   "execution_count": null,
   "metadata": {},
   "outputs": [],
   "source": []
  },
  {
   "cell_type": "code",
   "execution_count": 5,
   "metadata": {},
   "outputs": [
    {
     "name": "stdout",
     "output_type": "stream",
     "text": [
      "Collecting panda\n",
      "  Using cached https://files.pythonhosted.org/packages/79/03/74996420528fe488ce17c42b6400531c8067d7eb661c304fa3aa8fdad17c/panda-0.3.1.tar.gz\n",
      "Requirement already satisfied: setuptools in c:\\users\\user\\anaconda3\\lib\\site-packages (from panda) (41.4.0)\n",
      "Requirement already satisfied: requests in c:\\users\\user\\anaconda3\\lib\\site-packages (from panda) (2.22.0)\n",
      "Requirement already satisfied: urllib3!=1.25.0,!=1.25.1,<1.26,>=1.21.1 in c:\\users\\user\\anaconda3\\lib\\site-packages (from requests->panda) (1.24.2)\n",
      "Requirement already satisfied: idna<2.9,>=2.5 in c:\\users\\user\\anaconda3\\lib\\site-packages (from requests->panda) (2.8)\n",
      "Requirement already satisfied: chardet<3.1.0,>=3.0.2 in c:\\users\\user\\anaconda3\\lib\\site-packages (from requests->panda) (3.0.4)\n",
      "Requirement already satisfied: certifi>=2017.4.17 in c:\\users\\user\\anaconda3\\lib\\site-packages (from requests->panda) (2019.9.11)\n",
      "Building wheels for collected packages: panda\n",
      "  Building wheel for panda (setup.py): started\n",
      "  Building wheel for panda (setup.py): finished with status 'done'\n",
      "  Created wheel for panda: filename=panda-0.3.1-cp37-none-any.whl size=7261 sha256=f5ef459e0d7a863bfd52c9cc4d1ecac3c4429e69d8004148ba83acab2c6bd25d\n",
      "  Stored in directory: C:\\Users\\user\\AppData\\Local\\pip\\Cache\\wheels\\c6\\c8\\45\\06ed898b0bb401c1ff207dbb05b1587ff28860a236d98b1996\n",
      "Successfully built panda\n",
      "Installing collected packages: panda\n",
      "Successfully installed panda-0.3.1\n",
      "Note: you may need to restart the kernel to use updated packages.\n"
     ]
    }
   ],
   "source": [
    "pip install panda"
   ]
  },
  {
   "cell_type": "code",
   "execution_count": null,
   "metadata": {},
   "outputs": [],
   "source": [
    "import pandas as pd\n",
    "student_data={}\n",
    "rollno=[]\n",
    "Name=[]\n",
    "Age=[]\n",
    "mark=[]\n",
    "\n",
    "def name():\n",
    "        data=input('Name')\n",
    "        Name.append(data)\n",
    "        return\n",
    "def marks(): \n",
    "        data=int(input('Marks'))\n",
    "        if data > 100:\n",
    "            print('Please enter marks less than 100')\n",
    "            mark.append(1)\n",
    "        else:\n",
    "            mark.append(data)\n",
    "        return\n",
    "def roll(): \n",
    "    data=input('Roll_N0')\n",
    "    rollno.append(data)\n",
    "    return\n",
    "def age(): \n",
    "    data=int(input('Age'))\n",
    "    Age.append(data)\n",
    "    return\n",
    "def main():\n",
    "    for i in range(5):    \n",
    "        name()\n",
    "    for i in range(5):    \n",
    "        roll()\n",
    "    for i in range(5):    \n",
    "        age()\n",
    "    for i in range(5):    \n",
    "        marks()\n",
    "    return \n",
    "\n",
    "main()\n",
    "student_data.update({'Student_name': Name ,'Roll no': rollno ,'Age':Age,'Marks':mark })\n",
    "df=pd.DataFrame(student_data)\n",
    "print(df)\n"
   ]
  },
  {
   "cell_type": "code",
   "execution_count": 30,
   "metadata": {},
   "outputs": [
    {
     "name": "stdout",
     "output_type": "stream",
     "text": [
      " When I am down and, oh my soul, so weary\n",
      "When troubles come and my heart burdened be\n",
      "Then, I am still and wait here in the silence\n",
      "Until you come and sit awhile with me.You raise me up, so I can stand on mountains\n",
      "You raise me up, to walk on stormy seas\n"
     ]
    }
   ],
   "source": [
    "import time\n",
    "def time1():\n",
    "    time.sleep(1)\n",
    "    return \n",
    "print(' When I am down and, oh my soul, so weary')\n",
    "time1()\n",
    "print( 'When troubles come and my heart burdened be'  )\n",
    "time1()\n",
    "print( 'Then, I am still and wait here in the silence'  )\n",
    "time1()\n",
    "print('Until you come and sit awhile with me.You raise me up, so I can stand on mountains')\n",
    "time1()\n",
    "print('You raise me up, to walk on stormy seas')\n",
    "time1()\n"
   ]
  },
  {
   "cell_type": "code",
   "execution_count": 34,
   "metadata": {},
   "outputs": [
    {
     "ename": "SyntaxError",
     "evalue": "invalid syntax (<ipython-input-34-7e1df2950f9e>, line 9)",
     "output_type": "error",
     "traceback": [
      "\u001b[1;36m  File \u001b[1;32m\"<ipython-input-34-7e1df2950f9e>\"\u001b[1;36m, line \u001b[1;32m9\u001b[0m\n\u001b[1;33m    substring=\u001b[0m\n\u001b[1;37m              ^\u001b[0m\n\u001b[1;31mSyntaxError\u001b[0m\u001b[1;31m:\u001b[0m invalid syntax\n"
     ]
    }
   ],
   "source": [
    "string1='''When I am down and, oh my soul, so weary/n\n",
    "'When troubles come and my heart burdened be'/n\n",
    "'Then, I am still and wait here in the silence'/n\n",
    "'Until you come and sit awhile with me'/n.'You raise me up, so I can stand on mountains'\n",
    "/n'You raise me up, to walk on stormy seas'/nI am strong,/n when I am on your shoulders'\n",
    "/n'You raise me up: To more than I can be.'''\n",
    "string=string1.split()\n",
    "def main():\n",
    "    substring=\n",
    "    for l in string:\n",
    "        if  string.count(substring)==10:\n",
    "            return string\n",
    "main()\n",
    "    \n",
    "\n"
   ]
  },
  {
   "cell_type": "code",
   "execution_count": 29,
   "metadata": {},
   "outputs": [
    {
     "name": "stdout",
     "output_type": "stream",
     "text": [
      ". When troubles come and my heart burdened be. Then, I am still and wait here in the silence. Until you come and sit awhile with me.You raise me up, so I can stand on mountains You raise me up,. to walk on stormy seasI am strong, when I am on your shoulders.' You raise me up: To more than I can be.\n",
      ". When troubles come and my heart burdened be. Then, I am still and wait here in the silence. Until you come and sit awhile with me.You raise me up, so I can stand on mountains You raise me up,. to walk on stormy seasI am strong, when I am on your shoulders.' You raise me up: To more than I can be.\n",
      ". When troubles come and my heart burdened be. Then, I am still and wait here in the silence. Until you come and sit awhile with me.You raise me up, so I can stand on mountains You raise me up,. to walk on stormy seasI am strong, when I am on your shoulders.' You raise me up: To more than I can be.\n",
      ". When troubles come and my heart burdened be. Then, I am still and wait here in the silence. Until you come and sit awhile with me.You raise me up, so I can stand on mountains You raise me up,. to walk on stormy seasI am strong, when I am on your shoulders.' You raise me up: To more than I can be.\n",
      ". When troubles come and my heart burdened be. Then, I am still and wait here in the silence. Until you come and sit awhile with me.You raise me up, so I can stand on mountains You raise me up,. to walk on stormy seasI am strong, when I am on your shoulders.' You raise me up: To more than I can be.\n"
     ]
    }
   ],
   "source": [
    "string1='''.When I am down and, oh my soul, so weary .\n",
    "When troubles come and my heart burdened be.\n",
    "Then, I am still and wait here in the silence.\n",
    "Until you come and sit awhile with me.You raise me up, so I can stand on mountains You raise me up,. to walk on stormy seasI am strong, when I am on your shoulders.'\n",
    "You raise me up: To more than I can be.'''\n",
    "def group(seq, sep):\n",
    "    g = []\n",
    "    for el in seq:\n",
    "        if el == sep:\n",
    "            \n",
    "            yield g\n",
    "            g = []\n",
    "        g.append(el)\n",
    "    yield g\n",
    "    for list in range(5):\n",
    "        time1()\n",
    "        print(listToString(g),sep='/n')\n",
    "    \n",
    "def listToString(s):  \n",
    "    \n",
    "    # initialize an empty string \n",
    "    str1 = \" \" \n",
    "    \n",
    "    # return string   \n",
    "    return (str1.join(s)) \n",
    "        \n",
    "        \n",
    "# Driver code     \n",
    "\n",
    "ex =string1.split()\n",
    "result = list(group(ex, '.'))"
   ]
  },
  
